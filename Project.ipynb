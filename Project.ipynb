{
 "cells": [
  {
   "cell_type": "code",
   "execution_count": 7,
   "metadata": {},
   "outputs": [],
   "source": [
    "\n",
    "# things we need for NLP\n",
    " \n",
    "import nltk\n",
    "\n",
    "from nltk.stem.lancaster import LancasterStemmer\n",
    "\n",
    "stemmer = LancasterStemmer()\n",
    "\n",
    "\n",
    "\n",
    "# things we need for Tensorflow\n",
    "\n",
    "import numpy as np\n",
    "\n",
    "import tflearn\n",
    "\n",
    "import tensorflow as tf\n",
    "\n",
    "import random"
   ]
  },
  {
   "cell_type": "code",
   "execution_count": 8,
   "metadata": {},
   "outputs": [],
   "source": [
    "\n",
    "# import our chat-bot intents file\n",
    "\n",
    "import json\n",
    "\n",
    "with open('C://Users//joshg//OneDrive//Desktop//chatbot.json') as json_data:\n",
    "\n",
    "    intents = json.load(json_data)"
   ]
  },
  {
   "cell_type": "code",
   "execution_count": 37,
   "metadata": {},
   "outputs": [
    {
     "data": {
      "text/plain": [
       "{'intents': [{'tag': 'greeting',\n",
       "   'patterns': ['Hi', 'How are you', 'Is anyone there?', 'Hello', 'Good day'],\n",
       "   'responses': ['Hello, thanks for visiting',\n",
       "    'Good to see you again',\n",
       "    'Hi there, how can I help?'],\n",
       "   'context_set': ''},\n",
       "  {'tag': 'goodbye',\n",
       "   'patterns': ['Bye', 'See you later', 'Goodbye'],\n",
       "   'responses': ['See you later, thanks for visiting',\n",
       "    'Have a nice day',\n",
       "    'Bye! Come back again soon.']},\n",
       "  {'tag': 'thanks',\n",
       "   'patterns': ['Thanks', 'Thank you', \"That's helpful\"],\n",
       "   'responses': ['Happy to help!', 'Any time!', 'My pleasure']},\n",
       "  {'tag': 'bicycles',\n",
       "   'patterns': ['Which bicycles do you have?',\n",
       "    'What kinds of bicycles are there?',\n",
       "    'What do you rent?'],\n",
       "   'responses': ['We rent Hercules, BSA and Firefox bicycle models',\n",
       "    'We have Hercules, BSA and Firefox brands']},\n",
       "  {'tag': 'hours',\n",
       "   'patterns': ['What hours are you open?',\n",
       "    'What are your hours?',\n",
       "    'When are you open?'],\n",
       "   'responses': [\"We're open every day 9am-9pm\",\n",
       "    'Our hours are 9am-9pm every day']},\n",
       "  {'tag': 'payments',\n",
       "   'patterns': ['Do you take credit cards?',\n",
       "    'Do you accept Mastercard?',\n",
       "    'Are you cash only?'],\n",
       "   'responses': ['We accept VISA, Mastercard and AMEX',\n",
       "    'We accept most major credit cards']},\n",
       "  {'tag': 'opentoday',\n",
       "   'patterns': ['Are you open today?',\n",
       "    'When do you open today?',\n",
       "    'What are your hours today?'],\n",
       "   'responses': [\"We're open every day from 9am-9pm\",\n",
       "    'Our hours are 9am-9pm every day']}]}"
      ]
     },
     "execution_count": 37,
     "metadata": {},
     "output_type": "execute_result"
    }
   ],
   "source": [
    "intents"
   ]
  },
  {
   "cell_type": "code",
   "execution_count": 38,
   "metadata": {
    "scrolled": true
   },
   "outputs": [
    {
     "name": "stdout",
     "output_type": "stream",
     "text": [
      "23 documents\n",
      "7 classes ['bicycles', 'goodbye', 'greeting', 'hours', 'opentoday', 'payments', 'thanks']\n",
      "38 unique stemmed words [\"'s\", 'acceiv', 'anyon', 'ar', 'bicyc', 'bye', 'card', 'cash', 'credit', 'day', 'do', 'good', 'goodby', 'hav', 'hello', 'help', 'hi', 'hour', 'how', 'is', 'kind', 'lat', 'mastercard', 'of', 'on', 'op', 'rent', 'see', 'tak', 'thank', 'that', 'ther', 'today', 'what', 'when', 'which', 'yo', 'you']\n"
     ]
    }
   ],
   "source": [
    "words = []\n",
    "\n",
    "classes = []\n",
    "\n",
    "documents = []\n",
    "\n",
    "ignore_words = ['?']\n",
    "\n",
    "# loop through each sentence in our intents patterns\n",
    "\n",
    "for intent in intents['intents']:\n",
    "\n",
    "    for pattern in intent['patterns']:\n",
    "\n",
    "        # tokenize each word in the sentence\n",
    "\n",
    "        w = nltk.word_tokenize(pattern)\n",
    "\n",
    "        # add to our words list\n",
    "\n",
    "        words.extend(w)\n",
    "\n",
    "        # add to documents in our corpus\n",
    "\n",
    "        documents.append((w, intent['tag']))\n",
    "\n",
    "        # add to our classes list\n",
    "\n",
    "        if intent['tag'] not in classes:\n",
    "\n",
    "            classes.append(intent['tag'])\n",
    "\n",
    "\n",
    "# stem and lower each word and remove duplicates\n",
    "\n",
    "words = [stemmer.stem(w.lower()) for w in words if w not in ignore_words]\n",
    "\n",
    "words = sorted(list(set(words)))\n",
    "\n",
    "\n",
    "# remove duplicates\n",
    "\n",
    "classes = sorted(list(set(classes)))\n",
    "\n",
    "print (len(documents), \"documents\")\n",
    "\n",
    "print (len(classes), \"classes\", classes)\n",
    "\n",
    "print (len(words), \"unique stemmed words\", words)"
   ]
  },
  {
   "cell_type": "code",
   "execution_count": 28,
   "metadata": {},
   "outputs": [],
   "source": [
    "\n",
    "# create our training data\n",
    "\n",
    "training = []\n",
    "\n",
    "output = []\n",
    "\n",
    "# create an empty array for our output\n",
    "\n",
    "output_empty = [0] * len(classes)\n",
    "\n",
    "\n",
    "# training set, bag of words for each sentence\n",
    "\n",
    "for doc in documents:\n",
    "\n",
    "    # initialize our bag of words\n",
    "\n",
    "    bag = []\n",
    "\n",
    "    # list of tokenized words for the pattern\n",
    "\n",
    "    pattern_words = doc[0]\n",
    "\n",
    "    # stem each word\n",
    "\n",
    "    pattern_words = [stemmer.stem(word.lower()) for word in pattern_words]\n",
    "\n",
    "    # create our bag of words array\n",
    "\n",
    "    for w in words:\n",
    "\n",
    "        bag.append(1) if w in pattern_words else bag.append(0)\n",
    "\n",
    "\n",
    "    # output is a '0' for each tag and '1' for current tag\n",
    "\n",
    "    output_row = list(output_empty)\n",
    "\n",
    "    output_row[classes.index(doc[1])] = 1\n",
    "\n",
    "\n",
    "\n",
    "    training.append([bag, output_row])\n",
    "\n",
    "\n",
    "# shuffle our features and turn into np.array\n",
    "\n",
    "random.shuffle(training)\n",
    "\n",
    "training = np.array(training)\n",
    "\n",
    "\n",
    "# create train and test lists\n",
    "\n",
    "train_x = list(training[:,0])\n",
    "\n",
    "train_y = list(training[:,1])"
   ]
  },
  {
   "cell_type": "markdown",
   "metadata": {},
   "source": [
    "# "
   ]
  },
  {
   "cell_type": "code",
   "execution_count": 39,
   "metadata": {},
   "outputs": [
    {
     "name": "stdout",
     "output_type": "stream",
     "text": [
      "Training Step: 2999  | total loss: \u001b[1m\u001b[32m0.02702\u001b[0m\u001b[0m | time: 0.005s\n",
      "| Adam | epoch: 1000 | loss: 0.02702 - acc: 0.9998 -- iter: 16/23\n",
      "Training Step: 3000  | total loss: \u001b[1m\u001b[32m0.02593\u001b[0m\u001b[0m | time: 0.008s\n",
      "| Adam | epoch: 1000 | loss: 0.02593 - acc: 0.9998 -- iter: 23/23\n",
      "--\n",
      "INFO:tensorflow:C:\\Users\\joshg\\model.tflearn is not in all_model_checkpoint_paths. Manually adding it.\n"
     ]
    }
   ],
   "source": [
    "# reset underlying graph data\n",
    "\n",
    "tf.reset_default_graph()\n",
    "\n",
    "# Build neural network\n",
    "\n",
    "net = tflearn.input_data(shape=[None, len(train_x[0])])\n",
    "\n",
    "net = tflearn.fully_connected(net, 8)\n",
    "\n",
    "net = tflearn.fully_connected(net, 8)\n",
    "\n",
    "net = tflearn.fully_connected(net, len(train_y[0]), activation='softmax')\n",
    "\n",
    "net = tflearn.regression(net)\n",
    "\n",
    "\n",
    "\n",
    "# Define model and setup tensorboard\n",
    "\n",
    "model = tflearn.DNN(net, tensorboard_dir='tflearn_logs')\n",
    "\n",
    "# Start training (apply gradient descent algorithm)\n",
    "\n",
    "model.fit(train_x, train_y, n_epoch=1000, batch_size=8, show_metric=True)\n",
    "\n",
    "model.save('model.tflearn')"
   ]
  },
  {
   "cell_type": "code",
   "execution_count": 29,
   "metadata": {},
   "outputs": [],
   "source": [
    "import pickle\n",
    "\n",
    "pickle.dump( {'words':words, 'classes':classes, 'train_x'\n",
    "              :train_x, 'train_y':train_y}, open( \"training_data\", \"wb\" ) )"
   ]
  },
  {
   "cell_type": "code",
   "execution_count": 15,
   "metadata": {},
   "outputs": [],
   "source": [
    "# restore all of our data structures\n",
    "\n",
    "import pickle\n",
    "\n",
    "data = pickle.load( open( \"training_data\", \"rb\" ) )\n",
    "\n",
    "words = data['words']\n",
    "\n",
    "classes = data['classes']\n",
    "\n",
    "train_x = data['train_x']\n",
    "\n",
    "train_y = data['train_y']"
   ]
  },
  {
   "cell_type": "code",
   "execution_count": null,
   "metadata": {},
   "outputs": [],
   "source": []
  },
  {
   "cell_type": "code",
   "execution_count": null,
   "metadata": {},
   "outputs": [],
   "source": []
  },
  {
   "cell_type": "code",
   "execution_count": 17,
   "metadata": {},
   "outputs": [],
   "source": [
    "\n",
    "def clean_up_sentence(sentence):\n",
    "\n",
    "    # tokenize the pattern\n",
    "\n",
    "    sentence_words = nltk.word_tokenize(sentence)\n",
    "\n",
    "    # stem each word\n",
    "\n",
    "    sentence_words = [stemmer.stem(word.lower()) for word in sentence_words]\n",
    "\n",
    "    return sentence_words\n",
    "\n",
    "\n",
    "\n",
    "# return bag of words array: 0 or 1 for each word in the bag that exists in the sentence\n",
    "\n",
    "def bow(sentence, words, show_details=False):\n",
    "\n",
    "    # tokenize the pattern\n",
    "\n",
    "    sentence_words = clean_up_sentence(sentence)\n",
    "\n",
    "    # bag of words\n",
    "\n",
    "    bag = [0]*len(words)  \n",
    "\n",
    "    for s in sentence_words:\n",
    "\n",
    "        for i,w in enumerate(words):\n",
    "\n",
    "            if w == s: \n",
    "\n",
    "                bag[i] = 1\n",
    "\n",
    "                if show_details:\n",
    "\n",
    "                    print (\"found in bag: %s\" % w)\n",
    "\n",
    "\n",
    "\n",
    "    return(np.array(bag))"
   ]
  },
  {
   "cell_type": "code",
   "execution_count": 32,
   "metadata": {},
   "outputs": [],
   "source": [
    "\n",
    "\n",
    "ERROR_THRESHOLD = 0.25\n",
    "def classify(sentence):\n",
    "    # generate probabilities from the model\n",
    "    results = model.predict([bow(sentence, words)])[0]\n",
    "    # filter out predictions below a threshold\n",
    "    results = [[i,r] for i,r in enumerate(results) if r>ERROR_THRESHOLD]\n",
    "    # sort by strength of probability\n",
    "    results.sort(key=lambda x: x[1], reverse=True)\n",
    "    return_list = []\n",
    "    for r in results:\n",
    "        return_list.append((classes[r[0]], r[1]))\n",
    "    # return tuple of intent and probability\n",
    "    return return_list\n",
    "\n",
    "def response(sentence, userID='123', show_details=False):\n",
    "    results = classify(sentence)\n",
    "    # if we have a classification then find the matching intent tag\n",
    "    if results:\n",
    "        # loop as long as there are matches to process\n",
    "        while results:\n",
    "            for i in intents['intents']:\n",
    "                # find a tag matching the first result\n",
    "                if i['tag'] == results[0][0]:\n",
    "                    # a random response from the intent\n",
    "                    return print(random.choice(i['responses']))\n",
    "\n",
    "            results.pop(0)"
   ]
  },
  {
   "cell_type": "code",
   "execution_count": 40,
   "metadata": {},
   "outputs": [
    {
     "data": {
      "text/plain": [
       "[('opentoday', 0.6736991), ('thanks', 0.3262534)]"
      ]
     },
     "execution_count": 40,
     "metadata": {},
     "output_type": "execute_result"
    }
   ],
   "source": [
    "classify('is your shop open today?')"
   ]
  },
  {
   "cell_type": "code",
   "execution_count": 41,
   "metadata": {},
   "outputs": [
    {
     "name": "stdout",
     "output_type": "stream",
     "text": [
      "We're open every day from 9am-9pm\n"
     ]
    }
   ],
   "source": [
    "response('is your shop open today?')"
   ]
  },
  {
   "cell_type": "code",
   "execution_count": 42,
   "metadata": {},
   "outputs": [
    {
     "name": "stdout",
     "output_type": "stream",
     "text": [
      "We accept most major credit cards\n"
     ]
    }
   ],
   "source": [
    "response('do you take cash?')"
   ]
  },
  {
   "cell_type": "code",
   "execution_count": 36,
   "metadata": {},
   "outputs": [
    {
     "name": "stdout",
     "output_type": "stream",
     "text": [
      "Bye! Come back again soon.\n"
     ]
    }
   ],
   "source": [
    "response(\"Goodbye, see you later\")"
   ]
  },
  {
   "cell_type": "code",
   "execution_count": 21,
   "metadata": {},
   "outputs": [
    {
     "name": "stdout",
     "output_type": "stream",
     "text": [
      "Hi there, how can I help?\n"
     ]
    }
   ],
   "source": [
    "response(\"Is anyone there?\")"
   ]
  },
  {
   "cell_type": "code",
   "execution_count": null,
   "metadata": {},
   "outputs": [],
   "source": []
  }
 ],
 "metadata": {
  "kernelspec": {
   "display_name": "Python 3",
   "language": "python",
   "name": "python3"
  },
  "language_info": {
   "codemirror_mode": {
    "name": "ipython",
    "version": 3
   },
   "file_extension": ".py",
   "mimetype": "text/x-python",
   "name": "python",
   "nbconvert_exporter": "python",
   "pygments_lexer": "ipython3",
   "version": "3.7.3"
  }
 },
 "nbformat": 4,
 "nbformat_minor": 2
}
